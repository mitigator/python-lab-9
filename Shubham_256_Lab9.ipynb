{
 "cells": [
  {
   "cell_type": "markdown",
   "metadata": {},
   "source": [
    "1. Write a program to distinguish between Array Indexing and Fancy Indexing."
   ]
  },
  {
   "cell_type": "code",
   "execution_count": 11,
   "metadata": {},
   "outputs": [
    {
     "name": "stdout",
     "output_type": "stream",
     "text": [
      "User's Array:\n",
      "[[1 2 3]\n",
      " [4 5 6]\n",
      " [7 8 9]]\n",
      "Array Indexing: 5\n",
      "Fancy Indexing: [1 8]\n"
     ]
    }
   ],
   "source": [
    "import numpy as np\n",
    "\n",
    "rows = int(input(\"Enter the number of rows: \"))\n",
    "cols = int(input(\"Enter the number of columns: \"))\n",
    "\n",
    "arr = np.empty((rows, cols), dtype=int)\n",
    "\n",
    "for i in range(rows):\n",
    "    for j in range(cols):\n",
    "        arr[i, j] = int(input(f\"{i+1} {j+1})\"))\n",
    "\n",
    "# Display the user's array\n",
    "print(\"User's Array:\")\n",
    "print(arr)\n",
    "\n",
    "#Array Indexing\n",
    "element1 = arr[1, 1]\n",
    "\n",
    "#Fancy Indexing\n",
    "fancy_row= np.array([0,2])\n",
    "fancy_col= np.array([0,1])\n",
    "element2= arr[fancy_row,fancy_col]\n",
    "print(\"Array Indexing:\",element1)\n",
    "print(\"Fancy Indexing:\",element2 )\n"
   ]
  },
  {
   "cell_type": "markdown",
   "metadata": {},
   "source": [
    "2. Execute the 2D array Slicing."
   ]
  },
  {
   "cell_type": "code",
   "execution_count": 13,
   "metadata": {},
   "outputs": [
    {
     "name": "stdout",
     "output_type": "stream",
     "text": [
      "The entered 2D array:\n",
      "[1, 2, 3]\n",
      "[4, 5, 6]\n",
      "[7, 8, 9]\n",
      "The sliced portion:\n",
      "[1, 2]\n",
      "[4, 5]\n"
     ]
    }
   ],
   "source": [
    "rows = int(input(\"Enter the number of rows: \"))\n",
    "columns = int(input(\"Enter the number of columns: \"))\n",
    "matrix = []\n",
    "for i in range(rows):\n",
    "    row = []\n",
    "    for j in range(columns):\n",
    "        element = int(input(f\"{i+1}, {j+1}\"))\n",
    "        row.append(element)\n",
    "    matrix.append(row)\n",
    "print(\"The entered 2D array:\")\n",
    "for row in matrix:\n",
    "    print(row)\n",
    "\n",
    "start_row = int(input(\"Enter the starting row for slicing: \"))\n",
    "end_row = int(input(\"Enter the ending row (exclusive) for slicing: \"))\n",
    "start_column = int(input(\"Enter the starting column for slicing: \"))\n",
    "end_column = int(input(\"Enter the ending column (exclusive) for slicing: \"))\n",
    "\n",
    "if 0 <= start_row < end_row <= rows and 0 <= start_column < end_column <= columns:\n",
    "    sliced_portion = [row[start_column:end_column] for row in matrix[start_row:end_row]]\n",
    "    print(\"The sliced portion:\")\n",
    "    for row in sliced_portion:\n",
    "        print(row)\n",
    "else:\n",
    "    print(\"Invalid slicing indices.\")"
   ]
  },
  {
   "cell_type": "markdown",
   "metadata": {},
   "source": [
    "3. Create the 5-Dimensional arrays using ‘ndmin’."
   ]
  },
  {
   "cell_type": "code",
   "execution_count": 24,
   "metadata": {},
   "outputs": [
    {
     "name": "stdout",
     "output_type": "stream",
     "text": [
      "Array:\n",
      "[[1 2 3]\n",
      " [4 5 6]\n",
      " [7 8 9]]\n",
      "5D Array:\n",
      "[[[[[1 2 3]\n",
      "    [4 5 6]\n",
      "    [7 8 9]]]]]\n"
     ]
    }
   ],
   "source": [
    "import numpy as np\n",
    "\n",
    "rows = int(input(\"Enter the number of rows: \"))\n",
    "cols = int(input(\"Enter the number of columns: \"))\n",
    "user_array = np.empty((rows, cols), dtype=int)\n",
    "\n",
    "for i in range(rows):\n",
    "    for j in range(cols):\n",
    "        user_array[i, j] = int(input(f\"{i+1}, {j+1}\"))\n",
    "\n",
    "print(\"Array:\")\n",
    "print(user_array)\n",
    "\n",
    "print(\"5D Array:\")\n",
    "arr = np.array(user_array, ndmin=5)\n",
    "print(arr)\n",
    "\n"
   ]
  },
  {
   "cell_type": "markdown",
   "metadata": {},
   "source": [
    "4. Reshape the array from 1-D to 2-D array."
   ]
  },
  {
   "cell_type": "code",
   "execution_count": 25,
   "metadata": {},
   "outputs": [
    {
     "name": "stdout",
     "output_type": "stream",
     "text": [
      "\n",
      "Original 1-D Array:\n",
      "[1 2 3 4 5 6 7 8 9]\n",
      "\n",
      "Reshaped 2-D Array:\n",
      "[[1 2 3]\n",
      " [4 5 6]\n",
      " [7 8 9]]\n"
     ]
    }
   ],
   "source": [
    "import numpy as np\n",
    "\n",
    "ele = int(input(\"Enter the number of elements in the 1-D array: \"))\n",
    "\n",
    "arr = np.empty(ele, dtype=int)\n",
    "\n",
    "for i in range(ele):\n",
    "    element = int(input(f\"Enter element {i + 1}: \"))\n",
    "    arr[i] = element\n",
    "\n",
    "num_rows = int(input(\"Enter the number of rows for the 2-D array: \"))\n",
    "num_cols = int(input(\"Enter the number of columns for the 2-D array: \"))\n",
    "\n",
    "arr2 = arr.reshape(num_rows, num_cols)\n",
    "\n",
    "# Display the original 1-D array and the reshaped 2-D array\n",
    "print(\"\\nOriginal 1-D Array:\")\n",
    "print(arr)\n",
    "\n",
    "print(\"\\nReshaped 2-D Array:\")\n",
    "print(arr2)\n"
   ]
  },
  {
   "cell_type": "markdown",
   "metadata": {},
   "source": [
    "5. Perform the Stack functions in Numpy arrays – Stack(), hstack(), vstack(), and dstack()."
   ]
  },
  {
   "cell_type": "code",
   "execution_count": 26,
   "metadata": {},
   "outputs": [
    {
     "name": "stdout",
     "output_type": "stream",
     "text": [
      "Enter elements for the first array:\n",
      "\n",
      "Enter elements for the second array:\n",
      "\n",
      "Stacked Arrays:\n",
      "[[1 2 3]\n",
      " [1 2 3]]\n",
      "\n",
      "Horizontally Stacked Array:\n",
      "[1 2 3 1 2 3]\n",
      "\n",
      "Vertically Stacked Array:\n",
      "[[1 2 3]\n",
      " [1 2 3]]\n",
      "\n",
      "Depth-wise Stacked Array:\n",
      "[[[1 1]\n",
      "  [2 2]\n",
      "  [3 3]]]\n"
     ]
    }
   ],
   "source": [
    "import numpy as np\n",
    "\n",
    "num_elements = int(input(\"Enter the number of elements for each array: \"))\n",
    "array1 = np.empty(num_elements, dtype=int)\n",
    "array2 = np.empty(num_elements, dtype=int)\n",
    "print(\"Enter elements for the first array:\")\n",
    "for i in range(num_elements):\n",
    "    element = int(input(f\"Enter element {i + 1} for the first array: \"))\n",
    "    array1[i] = element\n",
    "\n",
    "print(\"\\nEnter elements for the second array:\")\n",
    "for i in range(num_elements):\n",
    "    element = int(input(f\"Enter element {i + 1} for the second array: \"))\n",
    "    array2[i] = element\n",
    "\n",
    "s = np.stack((array1, array2))\n",
    "h = np.hstack((array1, array2))\n",
    "v = np.vstack((array1, array2))\n",
    "d = np.dstack((array1, array2))\n",
    "\n",
    "print(\"\\nStacked Arrays:\")\n",
    "print(s)\n",
    "\n",
    "print(\"\\nHorizontally Stacked Array:\")\n",
    "print(h)\n",
    "\n",
    "print(\"\\nVertically Stacked Array:\")\n",
    "print(v)\n",
    "\n",
    "print(\"\\nDepth-wise Stacked Array:\")\n",
    "print(d)\n"
   ]
  },
  {
   "cell_type": "markdown",
   "metadata": {},
   "source": [
    "6. Perform the searchsort method in Numpy array."
   ]
  },
  {
   "cell_type": "code",
   "execution_count": 6,
   "metadata": {},
   "outputs": [
    {
     "name": "stdout",
     "output_type": "stream",
     "text": [
      "\n",
      "Sorted Array:\n",
      "[ 2  3  4  5  5  6  8  9 56]\n",
      "\n",
      "Index of Searched Value: 1\n"
     ]
    }
   ],
   "source": [
    "import numpy as np\n",
    "\n",
    "num_elements = int(input(\"Enter the number of elements in the array: \"))\n",
    "\n",
    "user_array = np.empty(num_elements, dtype=int)\n",
    "\n",
    "for i in range(num_elements):\n",
    "    element = int(input(f\"Enter element {i + 1}: \"))\n",
    "    user_array[i] = element\n",
    "\n",
    "sorted_array = np.sort(user_array)\n",
    "search_value = int(input(\"Enter a value to search for: \"))\n",
    "index = np.searchsorted(sorted_array, search_value)\n",
    "print(\"\\nSorted Array:\")\n",
    "print(sorted_array)\n",
    "\n",
    "print(\"\\nIndex of Searched Value:\", index)\n"
   ]
  },
  {
   "cell_type": "markdown",
   "metadata": {},
   "source": [
    "7. Create Numpy Structured array using your domain features."
   ]
  },
  {
   "cell_type": "code",
   "execution_count": 7,
   "metadata": {},
   "outputs": [
    {
     "name": "stdout",
     "output_type": "stream",
     "text": [
      "[(1, 'Sample Document', 'Shubham Mishra', '2023-09-15', '2023-10-03', 1024, 'document, sample, demo', 'DemoFile', False)]\n"
     ]
    }
   ],
   "source": [
    "import numpy as np\n",
    "\n",
    "doc_dtype = np.dtype([\n",
    "    ('document_id', np.int32),         \n",
    "    ('title', 'U100'),                 \n",
    "    ('author', 'U50'),                 \n",
    "    ('creation_date', 'M8[D]'),        \n",
    "    ('modification_date', 'M8[D]'),    \n",
    "    ('file_size', np.int64),           \n",
    "    ('keywords', 'U200'),              \n",
    "    ('category', 'U50'),               \n",
    "    ('is_archived', np.bool_),         \n",
    "])\n",
    "\n",
    "\n",
    "document_data = np.array([], dtype=doc_dtype)\n",
    "\n",
    "document = (1, \"Sample Document\", \"Shubham Mishra\", np.datetime64('2023-09-15'), np.datetime64('2023-10-03'), 1024, \"document, sample, demo\", \"DemoFile\", False)\n",
    "document_data = np.append(document_data, np.array([document], dtype=doc_dtype))\n",
    "\n",
    "\n",
    "print(document_data)\n"
   ]
  },
  {
   "cell_type": "markdown",
   "metadata": {},
   "source": [
    "8. Create Data frame using List and Dictionary."
   ]
  },
  {
   "cell_type": "code",
   "execution_count": 8,
   "metadata": {},
   "outputs": [
    {
     "name": "stdout",
     "output_type": "stream",
     "text": [
      "                                           Book  \\\n",
      "0                           Harry Potter Series   \n",
      "1                                    The Hobbit   \n",
      "2                         The Lord of the Rings   \n",
      "3                           Python Crash Course   \n",
      "4                                    Clean Code   \n",
      "5  Introduction to Machine Learning with Python   \n",
      "\n",
      "                              Author  Publication Year  \n",
      "0                       J.K. Rowling              1997  \n",
      "1                     J.R.R. Tolkien              1937  \n",
      "2                     J.R.R. Tolkien              1954  \n",
      "3                       Eric Matthes              2015  \n",
      "4                   Robert C. Martin              2008  \n",
      "5  Andreas C. Müller and Sarah Guido              2016  \n"
     ]
    }
   ],
   "source": [
    "import pandas as pd\n",
    "\n",
    "data = [\n",
    "    {\"Book\": \"Harry Potter Series\", \"Author\": \"J.K. Rowling\", \"Publication Year\": 1997},\n",
    "    {\"Book\": \"The Hobbit\", \"Author\": \"J.R.R. Tolkien\", \"Publication Year\": 1937},\n",
    "    {\"Book\": \"The Lord of the Rings\", \"Author\": \"J.R.R. Tolkien\", \"Publication Year\": 1954},\n",
    "    {\"Book\": \"Python Crash Course\", \"Author\": \"Eric Matthes\", \"Publication Year\": 2015},\n",
    "    {\"Book\": \"Clean Code\", \"Author\": \"Robert C. Martin\", \"Publication Year\": 2008},\n",
    "    {\"Book\": \"Introduction to Machine Learning with Python\", \"Author\": \"Andreas C. Müller and Sarah Guido\", \"Publication Year\": 2016},\n",
    "]\n",
    "\n",
    "df = pd.DataFrame(data)\n",
    "print(df)\n"
   ]
  },
  {
   "cell_type": "markdown",
   "metadata": {},
   "source": [
    "9. Create Data frame on your Domain area and perform the following operations to find and eliminate the missing data from the dataset.\n",
    "• isnull()\n",
    "• notnull()\n",
    "• dropna()\n",
    "• fillna()\n",
    "• replace()\n",
    "• interpolate()"
   ]
  },
  {
   "cell_type": "code",
   "execution_count": 16,
   "metadata": {},
   "outputs": [
    {
     "name": "stdout",
     "output_type": "stream",
     "text": [
      "Initial DataFrame:\n",
      "   DocumentID       Title   Author     Category  FileSize (KB)  Keywords\n",
      "0           1  Document A  Author1      General         1024.0  keyword1\n",
      "1           2  Document B  Author2    Technical            NaN  keyword2\n",
      "2           3  Document C  Author3         None         2048.0      None\n",
      "3           4        None  Author4         Demo            NaN  keyword4\n",
      "4           5  Document E     None  Educational         4096.0      None\n",
      "\n",
      "Missing Data (True indicates missing data):\n",
      "\n",
      "   DocumentID  Title  Author  Category  FileSize (KB)  Keywords\n",
      "0       False  False   False     False          False     False\n",
      "1       False  False   False     False           True     False\n",
      "2       False  False   False      True          False      True\n",
      "3       False   True   False     False           True     False\n",
      "4       False  False    True     False          False      True\n",
      "\n",
      "Non-Missing Data:\n",
      "\n",
      "   DocumentID  Title  Author  Category  FileSize (KB)  Keywords\n",
      "0        True   True    True      True           True      True\n",
      "1        True   True    True      True          False      True\n",
      "2        True   True    True     False           True     False\n",
      "3        True  False    True      True          False      True\n",
      "4        True   True   False      True           True     False\n",
      "\n",
      "DataFrame after Eliminating Rows with Missing Data:\n",
      "   DocumentID       Title   Author Category  FileSize (KB)  Keywords\n",
      "0           1  Document A  Author1  General         1024.0  keyword1\n",
      "\n",
      "DataFrame after Replacing Missing Values:\n",
      "   DocumentID       Title   Author     Category FileSize (KB)  Keywords\n",
      "0           1  Document A  Author1      General        1024.0  keyword1\n",
      "1           2  Document B  Author2    Technical       Unknown  keyword2\n",
      "2           3  Document C  Author3      Unknown        2048.0   Unknown\n",
      "3           4     Unknown  Author4         Demo       Unknown  keyword4\n",
      "4           5  Document E  Unknown  Educational        4096.0   Unknown\n",
      "\n",
      "DataFrame after Replacing Values:\n",
      "   DocumentID          Title         Author       Category  FileSize (KB)  \\\n",
      "0           1     Document A        Author1        General         1024.0   \n",
      "1           2     Document B        Author2      Technical  Not Specified   \n",
      "2           3     Document C        Author3  Not Specified         2048.0   \n",
      "3           4  Not Specified        Author4           Demo  Not Specified   \n",
      "4           5     Document E  Not Specified    Educational         4096.0   \n",
      "\n",
      "        Keywords  \n",
      "0       keyword1  \n",
      "1       keyword2  \n",
      "2  Not Specified  \n",
      "3       keyword4  \n",
      "4  Not Specified  \n",
      "\n",
      "DataFrame after Interpolating Missing Values:\n",
      "   DocumentID       Title   Author     Category  FileSize (KB)  Keywords\n",
      "0           1  Document A  Author1      General         1024.0  keyword1\n",
      "1           2  Document B  Author2    Technical         1536.0  keyword2\n",
      "2           3  Document C  Author3         None         2048.0      None\n",
      "3           4        None  Author4         Demo         3072.0  keyword4\n",
      "4           5  Document E     None  Educational         4096.0      None\n"
     ]
    },
    {
     "name": "stderr",
     "output_type": "stream",
     "text": [
      "C:\\Users\\Lenovo\\AppData\\Local\\Temp\\ipykernel_21060\\531832265.py:21: FutureWarning: DataFrame.interpolate with object dtype is deprecated and will raise in a future version. Call obj.infer_objects(copy=False) before interpolating instead.\n",
      "  interpolated_data = df.interpolate()\n"
     ]
    }
   ],
   "source": [
    "import pandas as pd\n",
    "import numpy as np\n",
    "\n",
    "data = {\n",
    "    'DocumentID': [1, 2, 3, 4, 5],\n",
    "    'Title': ['Document A', 'Document B', 'Document C', None, 'Document E'],\n",
    "    'Author': ['Author1', 'Author2', 'Author3', 'Author4', None],\n",
    "    'Category': ['General', 'Technical', None, 'Demo', 'Educational'],\n",
    "    'FileSize (KB)': [1024, None, 2048, None, 4096],\n",
    "    'Keywords': ['keyword1', 'keyword2', None, 'keyword4', None],\n",
    "}\n",
    "\n",
    "df = pd.DataFrame(data)\n",
    "print(\"Initial DataFrame:\")\n",
    "print(df)\n",
    "null_data = df.isnull()\n",
    "notnull_data = df.notnull()\n",
    "dropped_data = df.dropna()\n",
    "filled_data = df.fillna('Unknown')\n",
    "replaced_data = filled_data.replace('Unknown', 'Not Specified')\n",
    "interpolated_data = df.interpolate()\n",
    "\n",
    "# Display the results of each operation\n",
    "print(\"\\nMissing Data (True indicates missing data):\\n\")\n",
    "print(null_data)\n",
    "print(\"\\nNon-Missing Data:\\n\")\n",
    "print(notnull_data)\n",
    "print(\"\\nDataFrame after Eliminating Rows with Missing Data:\")\n",
    "print(dropped_data)\n",
    "print(\"\\nDataFrame after Replacing Missing Values:\")\n",
    "print(filled_data)\n",
    "print(\"\\nDataFrame after Replacing Values:\")\n",
    "print(replaced_data)\n",
    "print(\"\\nDataFrame after Interpolating Missing Values:\")\n",
    "print(interpolated_data)\n"
   ]
  },
  {
   "cell_type": "markdown",
   "metadata": {},
   "source": [
    "10. Perform the Hierarchical Indexing in the above created dataset."
   ]
  },
  {
   "cell_type": "code",
   "execution_count": 17,
   "metadata": {},
   "outputs": [
    {
     "name": "stdout",
     "output_type": "stream",
     "text": [
      "DataFrame with Hierarchical Index:\n",
      "                     DocumentID       Title  FileSize (KB)  Keywords\n",
      "Author  Category                                                    \n",
      "Author1 General               1  Document A         1024.0  keyword1\n",
      "Author2 Technical             2  Document B            NaN  keyword2\n",
      "Author3 NaN                   3  Document C         2048.0      None\n",
      "Author4 Demo                  4        None            NaN  keyword4\n",
      "NaN     Educational           5  Document E         4096.0      None\n"
     ]
    }
   ],
   "source": [
    "df = pd.DataFrame(data)\n",
    "df.set_index(['Author', 'Category'], inplace=True)\n",
    "print(\"DataFrame with Hierarchical Index:\")\n",
    "print(df)\n"
   ]
  }
 ],
 "metadata": {
  "kernelspec": {
   "display_name": "Python 3",
   "language": "python",
   "name": "python3"
  },
  "language_info": {
   "codemirror_mode": {
    "name": "ipython",
    "version": 3
   },
   "file_extension": ".py",
   "mimetype": "text/x-python",
   "name": "python",
   "nbconvert_exporter": "python",
   "pygments_lexer": "ipython3",
   "version": "3.11.1"
  },
  "orig_nbformat": 4
 },
 "nbformat": 4,
 "nbformat_minor": 2
}
